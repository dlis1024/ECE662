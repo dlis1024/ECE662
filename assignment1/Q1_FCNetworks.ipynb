{
  "cells": [
    {
      "cell_type": "markdown",
      "metadata": {
        "colab_type": "text",
        "id": "view-in-github"
      },
      "source": [
        "<a href=\"https://colab.research.google.com/github/dlis1024/ECE662/blob/main/Q1_FCNetworks.ipynb\" target=\"_parent\"><img src=\"https://colab.research.google.com/assets/colab-badge.svg\" alt=\"Open In Colab\"/></a>"
      ]
    },
    {
      "cell_type": "markdown",
      "metadata": {
        "id": "PqOSfs6furmO",
        "tags": [
          "pdf-ignore"
        ]
      },
      "source": [
        "# Fully-Connected Neural Nets\n",
        "In this exercise we will implement fully-connected networks using a modular approach. Ideally we want to build networks using a more modular design so that we can implement different layer types in isolation and then snap them together into models with different architectures. For each layer we will implement a `forward` and a `backward` function. The `forward` function will receive inputs, weights, and other parameters and will return both an output and a `cache` object storing data needed for the backward pass, like this:\n",
        "\n",
        "```python\n",
        "def layer_forward(x, w):\n",
        "  \"\"\" Receive inputs x and weights w \"\"\"\n",
        "  # Do some computations ...\n",
        "  z = # ... some intermediate value\n",
        "  # Do some more computations ...\n",
        "  out = # the output\n",
        "   \n",
        "  cache = (x, w, z, out) # Values we need to compute gradients\n",
        "   \n",
        "  return out, cache\n",
        "```\n",
        "\n",
        "The backward pass will receive upstream derivatives and the `cache` object, and will return gradients with respect to the inputs and weights, like this:\n",
        "\n",
        "```python\n",
        "def layer_backward(dout, cache):\n",
        "  \"\"\"\n",
        "  Receive dout (derivative of loss with respect to outputs) and cache,\n",
        "  and compute derivative with respect to inputs.\n",
        "  \"\"\"\n",
        "  # Unpack cache values\n",
        "  x, w, z, out = cache\n",
        "  \n",
        "  # Use values in cache to compute derivatives\n",
        "  dx = # Derivative of loss with respect to x\n",
        "  dw = # Derivative of loss with respect to w\n",
        "  \n",
        "  return dx, dw\n",
        "```\n",
        "\n",
        "After implementing a bunch of layers this way, we will be able to easily combine them to build classifiers with different architectures.\n",
        "\n",
        "In addition to implementing fully-connected networks of arbitrary depth, we will also explore different update rules for optimization, and introduce Dropout as a regularizer and Batch/Layer Normalization as a tool to more efficiently optimize deep networks.\n",
        "  "
      ]
    },
    {
      "cell_type": "code",
      "execution_count": 2,
      "metadata": {
        "id": "GFhm-2aqurmP",
        "tags": [
          "pdf-ignore"
        ]
      },
      "outputs": [
        {
          "name": "stdout",
          "output_type": "stream",
          "text": [
            "=========== You can safely ignore the message below if you are NOT working on ConvolutionalNetworks.ipynb ===========\n",
            "\tYou will need to compile a Cython extension for a portion of this assignment.\n",
            "\tThe instructions to do this will be given in a section of the notebook below.\n",
            "\tThere will be an option for Colab users and another for Jupyter (local) users.\n"
          ]
        }
      ],
      "source": [
        "# As usual, a bit of setup\n",
        "from __future__ import print_function\n",
        "import time\n",
        "import numpy as np\n",
        "import matplotlib.pyplot as plt\n",
        "from ece662.classifiers.fc_net import *\n",
        "from ece662.data_utils import get_CINIC10_data\n",
        "from ece662.gradient_check import eval_numerical_gradient, eval_numerical_gradient_array\n",
        "from ece662.solver import Solver\n",
        "\n",
        "%matplotlib inline\n",
        "plt.rcParams['figure.figsize'] = (10.0, 8.0) # set default size of plots\n",
        "plt.rcParams['image.interpolation'] = 'nearest'\n",
        "plt.rcParams['image.cmap'] = 'gray'\n",
        "\n",
        "# for auto-reloading external modules\n",
        "# see http://stackoverflow.com/questions/1907993/autoreload-of-modules-in-ipython\n",
        "\n",
        "%load_ext autoreload\n",
        "%autoreload 2\n",
        "\n",
        "def rel_error(x, y):\n",
        "  \"\"\" returns relative error \"\"\"\n",
        "  return np.max(np.abs(x - y) / (np.maximum(1e-8, np.abs(x) + np.abs(y))))"
      ]
    },
    {
      "cell_type": "code",
      "execution_count": 3,
      "metadata": {
        "colab": {
          "base_uri": "https://localhost:8080/"
        },
        "id": "8vtJKAmKurmT",
        "outputId": "48fdb24a-0b0a-4e3b-b257-811adb8c11d7",
        "tags": [
          "pdf-ignore"
        ]
      },
      "outputs": [
        {
          "name": "stdout",
          "output_type": "stream",
          "text": [
            "('X_train: ', (53973, 3, 32, 32))\n",
            "('y_train: ', (53973,))\n",
            "('X_val: ', (10195, 3, 32, 32))\n",
            "('y_val: ', (10195,))\n",
            "('X_test: ', (10196, 3, 32, 32))\n",
            "('y_test: ', (10196,))\n",
            "Number of Classes: 6\n"
          ]
        }
      ],
      "source": [
        "# Load the (preprocessed) CINIC10 data - Note that CINIC10 was modified in size for this course\n",
        "\n",
        "data = get_CINIC10_data()\n",
        "for k, v in list(data.items()):\n",
        "  print(('%s: ' % k, v.shape))\n",
        "\n",
        "print('Number of Classes: {}'.format(len(np.unique(data['y_train']))))"
      ]
    },
    {
      "cell_type": "markdown",
      "metadata": {
        "id": "epAQOI3burmZ"
      },
      "source": [
        "# Affine layer: forward\n",
        "Open the file `ece697ls/layers.py` and implement the `affine_forward` function.\n",
        "\n",
        "Once you are done you can test your implementaion by running the following:"
      ]
    },
    {
      "cell_type": "code",
      "execution_count": 4,
      "metadata": {
        "colab": {
          "base_uri": "https://localhost:8080/",
          "height": 280
        },
        "id": "8I6IIg9Hurma",
        "outputId": "71a59114-3518-47ff-8412-199cd6e8805d"
      },
      "outputs": [
        {
          "name": "stdout",
          "output_type": "stream",
          "text": [
            "Testing affine_forward function:\n",
            "difference:  9.769849468192957e-10\n"
          ]
        }
      ],
      "source": [
        "# Test the affine_forward function\n",
        "\n",
        "num_inputs = 2\n",
        "input_shape = (4, 5, 6)\n",
        "output_dim = 3\n",
        "\n",
        "input_size = num_inputs * np.prod(input_shape)\n",
        "weight_size = output_dim * np.prod(input_shape)\n",
        "\n",
        "x = np.linspace(-0.1, 0.5, num=input_size).reshape(num_inputs, *input_shape)\n",
        "w = np.linspace(-0.2, 0.3, num=weight_size).reshape(np.prod(input_shape), output_dim)\n",
        "b = np.linspace(-0.3, 0.1, num=output_dim)\n",
        "\n",
        "out, _ = affine_forward(x, w, b)\n",
        "correct_out = np.array([[ 1.49834967,  1.70660132,  1.91485297],\n",
        "                        [ 3.25553199,  3.5141327,   3.77273342]])\n",
        "\n",
        "# Compare your output with ours. The error should be around e-9 or less.\n",
        "print('Testing affine_forward function:')\n",
        "print('difference: ', rel_error(out, correct_out))"
      ]
    },
    {
      "cell_type": "markdown",
      "metadata": {
        "id": "4Iz47beYurme"
      },
      "source": [
        "# Affine layer: backward\n",
        "Now implement the `affine_backward` function and test your implementation using numeric gradient checking."
      ]
    },
    {
      "cell_type": "code",
      "execution_count": 5,
      "metadata": {
        "id": "wRq5_6Elurmf"
      },
      "outputs": [
        {
          "name": "stdout",
          "output_type": "stream",
          "text": [
            "Testing affine_backward function:\n",
            "dx error:  5.399100368651805e-11\n",
            "dw error:  9.904211865398145e-11\n",
            "db error:  2.4122867568119087e-11\n"
          ]
        }
      ],
      "source": [
        "# Test the affine_backward function\n",
        "np.random.seed(231)\n",
        "x = np.random.randn(10, 2, 3)\n",
        "w = np.random.randn(6, 5)\n",
        "b = np.random.randn(5)\n",
        "dout = np.random.randn(10, 5)\n",
        "\n",
        "dx_num = eval_numerical_gradient_array(lambda x: affine_forward(x, w, b)[0], x, dout)\n",
        "dw_num = eval_numerical_gradient_array(lambda w: affine_forward(x, w, b)[0], w, dout)\n",
        "db_num = eval_numerical_gradient_array(lambda b: affine_forward(x, w, b)[0], b, dout)\n",
        "\n",
        "_, cache = affine_forward(x, w, b)\n",
        "dx, dw, db = affine_backward(dout, cache)\n",
        "\n",
        "# The error should be around e-10 or less\n",
        "print('Testing affine_backward function:')\n",
        "print('dx error: ', rel_error(dx_num, dx))\n",
        "print('dw error: ', rel_error(dw_num, dw))\n",
        "print('db error: ', rel_error(db_num, db))"
      ]
    },
    {
      "cell_type": "markdown",
      "metadata": {
        "id": "dr7IrL2murmk"
      },
      "source": [
        "# ReLU activation: forward\n",
        "Implement the forward pass for the ReLU activation function in the `relu_forward` function and test your implementation using the following:"
      ]
    },
    {
      "cell_type": "code",
      "execution_count": 6,
      "metadata": {
        "id": "utWE7vFpurml"
      },
      "outputs": [
        {
          "name": "stdout",
          "output_type": "stream",
          "text": [
            "Testing relu_forward function:\n",
            "difference:  4.999999798022158e-08\n"
          ]
        }
      ],
      "source": [
        "# Test the relu_forward function\n",
        "\n",
        "x = np.linspace(-0.5, 0.5, num=12).reshape(3, 4)\n",
        "\n",
        "out, _ = relu_forward(x)\n",
        "correct_out = np.array([[ 0.,          0.,          0.,          0.,        ],\n",
        "                        [ 0.,          0.,          0.04545455,  0.13636364,],\n",
        "                        [ 0.22727273,  0.31818182,  0.40909091,  0.5,       ]])\n",
        "                        \n",
        "# Compare your output with ours. The error should be on the order of e-8\n",
        "print('Testing relu_forward function:')\n",
        "print('difference: ', rel_error(out, correct_out))"
      ]
    },
    {
      "cell_type": "markdown",
      "metadata": {
        "id": "m6m0RslFurmw"
      },
      "source": [
        "# ReLU activation: backward\n",
        "Now implement the backward pass for the ReLU activation function in the `relu_backward` function and test your implementation using numeric gradient checking:"
      ]
    },
    {
      "cell_type": "code",
      "execution_count": 7,
      "metadata": {
        "id": "8M6GJoQSurmy"
      },
      "outputs": [
        {
          "name": "stdout",
          "output_type": "stream",
          "text": [
            "Testing relu_backward function:\n",
            "dx error:  3.2756349136310288e-12\n"
          ]
        }
      ],
      "source": [
        "np.random.seed(231)\n",
        "x = np.random.randn(10, 10)\n",
        "dout = np.random.randn(*x.shape)\n",
        "\n",
        "dx_num = eval_numerical_gradient_array(lambda x: relu_forward(x)[0], x, dout)\n",
        "\n",
        "_, cache = relu_forward(x)\n",
        "dx = relu_backward(dout, cache)\n",
        "\n",
        "# The error should be on the order of e-12\n",
        "print('Testing relu_backward function:')\n",
        "print('dx error: ', rel_error(dx_num, dx))"
      ]
    },
    {
      "cell_type": "markdown",
      "metadata": {
        "id": "aO8e_-SZurm4",
        "tags": [
          "pdf-inline"
        ]
      },
      "source": [
        "## Inline Question 1:\n",
        "\n",
        "We've only asked you to implement ReLU, but there are a number of different activation functions that one could use in neural networks, each with its pros and cons. In particular, an issue commonly seen with activation functions is getting zero (or close to zero) gradient flow during backpropagation. Which of the following activation functions have this problem? If you consider these functions in the one dimensional case, what types of input would lead to this behaviour?\n",
        "1. Sigmoid\n",
        "2. Tanh\n",
        "\n",
        "## Answer:\n",
        "[For both the Sigmoid and Tanh functions, the derivatives as we approach +- infinity or a very large value in either positive or negative direction is going to approach zero, meaning that we will get zero (or close to zero) gradient flow during backpropagation]\n"
      ]
    },
    {
      "cell_type": "markdown",
      "metadata": {
        "id": "ggA3VKz4FgZF"
      },
      "source": [
        "## Inline Question 2:\n",
        "\n",
        "Why is an activation function required ? Why is a bias required ?\n",
        "\n",
        "## Answer:\n",
        "\n",
        "[An activation function is required to introduce non-linearity because linearity collapses into a single layer. Having more layers allows us to have deeper learning models. Bias is required for classification as without it we must always pass through the origin which is very limiting in seperating different classifications.]"
      ]
    },
    {
      "cell_type": "markdown",
      "metadata": {
        "id": "nQu1BShUurm5"
      },
      "source": [
        "# \"Sandwich\" layers\n",
        "There are some common patterns of layers that are frequently used in neural nets. For example, affine layers are frequently followed by a ReLU nonlinearity. To make these common patterns easy, we define several convenience layers in the file `ece697ls/layer_utils.py`.\n",
        "\n",
        "For now take a look at the `affine_relu_forward` and `affine_relu_backward` functions, and run the following to numerically gradient check the backward pass:"
      ]
    },
    {
      "cell_type": "code",
      "execution_count": 8,
      "metadata": {
        "id": "-03OQYEuurm6"
      },
      "outputs": [
        {
          "name": "stdout",
          "output_type": "stream",
          "text": [
            "Testing affine_relu_forward and affine_relu_backward:\n",
            "dx error:  2.299579177309368e-11\n",
            "dw error:  8.162011105764925e-11\n",
            "db error:  7.826724021458994e-12\n"
          ]
        }
      ],
      "source": [
        "from ece662.layer_utils import affine_relu_forward, affine_relu_backward\n",
        "np.random.seed(231)\n",
        "x = np.random.randn(2, 3, 4)\n",
        "w = np.random.randn(12, 10)\n",
        "b = np.random.randn(10)\n",
        "dout = np.random.randn(2, 10)\n",
        "\n",
        "out, cache = affine_relu_forward(x, w, b)\n",
        "dx, dw, db = affine_relu_backward(dout, cache)\n",
        "\n",
        "dx_num = eval_numerical_gradient_array(lambda x: affine_relu_forward(x, w, b)[0], x, dout)\n",
        "dw_num = eval_numerical_gradient_array(lambda w: affine_relu_forward(x, w, b)[0], w, dout)\n",
        "db_num = eval_numerical_gradient_array(lambda b: affine_relu_forward(x, w, b)[0], b, dout)\n",
        "\n",
        "# Relative error should be around e-10 or less\n",
        "print('Testing affine_relu_forward and affine_relu_backward:')\n",
        "print('dx error: ', rel_error(dx_num, dx))\n",
        "print('dw error: ', rel_error(dw_num, dw))\n",
        "print('db error: ', rel_error(db_num, db))"
      ]
    },
    {
      "cell_type": "markdown",
      "metadata": {
        "id": "kT-rMfXnurm-"
      },
      "source": [
        "# Loss layers: Softmax and SVM\n",
        "You implemented these loss functions in the last assignment, so we'll give them to you for free here. You should still make sure you understand how they work by looking at the implementations in `ece697ls/layers.py`.\n",
        "\n",
        "You can make sure that the implementations are correct by running the following:"
      ]
    },
    {
      "cell_type": "code",
      "execution_count": 9,
      "metadata": {
        "id": "SC0Ihz_xurm_"
      },
      "outputs": [
        {
          "name": "stdout",
          "output_type": "stream",
          "text": [
            "Testing svm_loss:\n",
            "loss:  8.999602749096233\n",
            "dx error:  1.4021566006651672e-09\n",
            "\n",
            "Testing softmax_loss:\n",
            "loss:  2.302545844500738\n",
            "dx error:  9.384673161989355e-09\n"
          ]
        }
      ],
      "source": [
        "np.random.seed(231)\n",
        "num_classes, num_inputs = 10, 50\n",
        "x = 0.001 * np.random.randn(num_inputs, num_classes)\n",
        "y = np.random.randint(num_classes, size=num_inputs)\n",
        "\n",
        "dx_num = eval_numerical_gradient(lambda x: svm_loss(x, y)[0], x, verbose=False)\n",
        "loss, dx = svm_loss(x, y)\n",
        "\n",
        "# Test svm_loss function. Loss should be around 9 and dx error should be around the order of e-9\n",
        "print('Testing svm_loss:')\n",
        "print('loss: ', loss)\n",
        "print('dx error: ', rel_error(dx_num, dx))\n",
        "\n",
        "dx_num = eval_numerical_gradient(lambda x: softmax_loss(x, y)[0], x, verbose=False)\n",
        "loss, dx = softmax_loss(x, y)\n",
        "\n",
        "# Test softmax_loss function. Loss should be close to 2.3 and dx error should be around e-8\n",
        "print('\\nTesting softmax_loss:')\n",
        "print('loss: ', loss)\n",
        "print('dx error: ', rel_error(dx_num, dx))"
      ]
    },
    {
      "cell_type": "markdown",
      "metadata": {
        "id": "gWowXqiiurnD"
      },
      "source": [
        "# Two-layer network\n",
        "In the previous assignment you implemented a two-layer neural network in a single monolithic class. Now that you have implemented modular versions of the necessary layers, you will reimplement the two layer network using these modular implementations.\n",
        "\n",
        "Open the file `ece697ls/classifiers/fc_net.py` and complete the implementation of the `TwoLayerNet` class. This class will serve as a model for the other networks you will implement in this assignment, so read through it to make sure you understand the API. You can run the cell below to test your implementation."
      ]
    },
    {
      "cell_type": "code",
      "execution_count": 10,
      "metadata": {
        "id": "6xvHwzJeurnD"
      },
      "outputs": [
        {
          "name": "stdout",
          "output_type": "stream",
          "text": [
            "Testing initialization ... \n",
            "Testing test-time forward pass ... \n",
            "Testing training loss (no regularization)\n",
            "Running numeric gradient check with reg =  0.0\n",
            "W1 relative error: 1.83e-08\n",
            "W2 relative error: 3.12e-10\n",
            "b1 relative error: 9.83e-09\n",
            "b2 relative error: 4.33e-10\n",
            "Running numeric gradient check with reg =  0.7\n",
            "W1 relative error: 2.53e-07\n",
            "W2 relative error: 2.85e-08\n",
            "b1 relative error: 1.56e-08\n",
            "b2 relative error: 7.76e-10\n"
          ]
        }
      ],
      "source": [
        "np.random.seed(231)\n",
        "N, D, H, C = 3, 5, 50, 7\n",
        "X = np.random.randn(N, D)\n",
        "y = np.random.randint(C, size=N)\n",
        "\n",
        "std = 1e-3\n",
        "model = TwoLayerNet(input_dim=D, hidden_dim=H, num_classes=C, weight_scale=std)\n",
        "\n",
        "print('Testing initialization ... ')\n",
        "W1_std = abs(model.params['W1'].std() - std)\n",
        "b1 = model.params['b1']\n",
        "W2_std = abs(model.params['W2'].std() - std)\n",
        "b2 = model.params['b2']\n",
        "assert W1_std < std / 10, 'First layer weights do not seem right'\n",
        "assert np.all(b1 == 0), 'First layer biases do not seem right'\n",
        "assert W2_std < std / 10, 'Second layer weights do not seem right'\n",
        "assert np.all(b2 == 0), 'Second layer biases do not seem right'\n",
        "\n",
        "print('Testing test-time forward pass ... ')\n",
        "model.params['W1'] = np.linspace(-0.7, 0.3, num=D*H).reshape(D, H)\n",
        "model.params['b1'] = np.linspace(-0.1, 0.9, num=H)\n",
        "model.params['W2'] = np.linspace(-0.3, 0.4, num=H*C).reshape(H, C)\n",
        "model.params['b2'] = np.linspace(-0.9, 0.1, num=C)\n",
        "X = np.linspace(-5.5, 4.5, num=N*D).reshape(D, N).T\n",
        "scores = model.loss(X)\n",
        "correct_scores = np.asarray(\n",
        "  [[11.53165108,  12.2917344,   13.05181771,  13.81190102,  14.57198434, 15.33206765,  16.09215096],\n",
        "   [12.05769098,  12.74614105,  13.43459113,  14.1230412,   14.81149128, 15.49994135,  16.18839143],\n",
        "   [12.58373087,  13.20054771,  13.81736455,  14.43418138,  15.05099822, 15.66781506,  16.2846319 ]])\n",
        "scores_diff = np.abs(scores - correct_scores).sum()\n",
        "assert scores_diff < 1e-6, 'Problem with test-time forward pass'\n",
        "\n",
        "print('Testing training loss (no regularization)')\n",
        "y = np.asarray([0, 5, 1])\n",
        "loss, grads = model.loss(X, y)\n",
        "correct_loss = 3.4702243556\n",
        "assert abs(loss - correct_loss) < 1e-10, 'Problem with training-time loss'\n",
        "\n",
        "model.reg = 1.0\n",
        "loss, grads = model.loss(X, y)\n",
        "correct_loss = 26.5948426952\n",
        "assert abs(loss - correct_loss) < 1e-10, 'Problem with regularization loss'\n",
        "\n",
        "# Errors should be around e-7 or less\n",
        "for reg in [0.0, 0.7]:\n",
        "  print('Running numeric gradient check with reg = ', reg)\n",
        "  model.reg = reg\n",
        "  loss, grads = model.loss(X, y)\n",
        "\n",
        "  for name in sorted(grads):\n",
        "    f = lambda _: model.loss(X, y)[0]\n",
        "    grad_num = eval_numerical_gradient(f, model.params[name], verbose=False)\n",
        "    print('%s relative error: %.2e' % (name, rel_error(grad_num, grads[name])))"
      ]
    },
    {
      "cell_type": "markdown",
      "metadata": {
        "id": "iCVX3fARurnL"
      },
      "source": [
        "# Solver\n",
        "In the previous assignment, the logic for training models was coupled to the models themselves. Following a more modular design, for this assignment we have split the logic for training models into a separate class.\n",
        "\n",
        "Open the file `ece697ls/solver.py` and read through it to familiarize yourself with the API. After doing so, use a `Solver` instance to train a `TwoLayerNet` that achieves at least `40%` accuracy on the validation set."
      ]
    },
    {
      "cell_type": "code",
      "execution_count": 12,
      "metadata": {
        "id": "tln_solver_accuracy"
      },
      "outputs": [
        {
          "name": "stdout",
          "output_type": "stream",
          "text": [
            "(Iteration 1 / 5390) loss: 2.307874\n",
            "(Epoch 0 / 10) train acc: 0.183000; val_acc: 0.176263\n",
            "(Iteration 101 / 5390) loss: 1.750562\n",
            "(Iteration 201 / 5390) loss: 1.699132\n",
            "(Iteration 301 / 5390) loss: 1.527955\n",
            "(Iteration 401 / 5390) loss: 1.501801\n",
            "(Iteration 501 / 5390) loss: 1.589689\n",
            "(Epoch 1 / 10) train acc: 0.411000; val_acc: 0.381363\n",
            "(Iteration 601 / 5390) loss: 1.495627\n",
            "(Iteration 701 / 5390) loss: 1.533277\n",
            "(Iteration 801 / 5390) loss: 1.428282\n",
            "(Iteration 901 / 5390) loss: 1.575780\n",
            "(Iteration 1001 / 5390) loss: 1.373024\n",
            "(Epoch 2 / 10) train acc: 0.422000; val_acc: 0.394213\n",
            "(Iteration 1101 / 5390) loss: 1.510367\n",
            "(Iteration 1201 / 5390) loss: 1.394150\n",
            "(Iteration 1301 / 5390) loss: 1.287389\n",
            "(Iteration 1401 / 5390) loss: 1.462516\n",
            "(Iteration 1501 / 5390) loss: 1.413106\n",
            "(Iteration 1601 / 5390) loss: 1.504078\n",
            "(Epoch 3 / 10) train acc: 0.444000; val_acc: 0.402550\n",
            "(Iteration 1701 / 5390) loss: 1.377853\n",
            "(Iteration 1801 / 5390) loss: 1.282831\n",
            "(Iteration 1901 / 5390) loss: 1.271640\n",
            "(Iteration 2001 / 5390) loss: 1.392606\n",
            "(Iteration 2101 / 5390) loss: 1.379819\n",
            "(Epoch 4 / 10) train acc: 0.473000; val_acc: 0.398627\n",
            "(Iteration 2201 / 5390) loss: 1.385984\n",
            "(Iteration 2301 / 5390) loss: 1.513492\n",
            "(Iteration 2401 / 5390) loss: 1.336712\n",
            "(Iteration 2501 / 5390) loss: 1.371309\n",
            "(Iteration 2601 / 5390) loss: 1.419652\n",
            "(Epoch 5 / 10) train acc: 0.450000; val_acc: 0.398627\n",
            "(Iteration 2701 / 5390) loss: 1.373185\n",
            "(Iteration 2801 / 5390) loss: 1.376214\n",
            "(Iteration 2901 / 5390) loss: 1.336459\n",
            "(Iteration 3001 / 5390) loss: 1.334538\n",
            "(Iteration 3101 / 5390) loss: 1.352608\n",
            "(Iteration 3201 / 5390) loss: 1.491906\n",
            "(Epoch 6 / 10) train acc: 0.477000; val_acc: 0.410495\n",
            "(Iteration 3301 / 5390) loss: 1.462144\n",
            "(Iteration 3401 / 5390) loss: 1.326634\n",
            "(Iteration 3501 / 5390) loss: 1.230196\n",
            "(Iteration 3601 / 5390) loss: 1.158172\n",
            "(Iteration 3701 / 5390) loss: 1.311077\n",
            "(Epoch 7 / 10) train acc: 0.492000; val_acc: 0.403727\n",
            "(Iteration 3801 / 5390) loss: 1.225415\n",
            "(Iteration 3901 / 5390) loss: 1.170508\n",
            "(Iteration 4001 / 5390) loss: 1.167651\n",
            "(Iteration 4101 / 5390) loss: 1.309456\n",
            "(Iteration 4201 / 5390) loss: 1.342645\n",
            "(Iteration 4301 / 5390) loss: 1.476464\n",
            "(Epoch 8 / 10) train acc: 0.500000; val_acc: 0.398823\n",
            "(Iteration 4401 / 5390) loss: 1.370848\n",
            "(Iteration 4501 / 5390) loss: 1.364174\n",
            "(Iteration 4601 / 5390) loss: 1.126155\n",
            "(Iteration 4701 / 5390) loss: 1.274790\n",
            "(Iteration 4801 / 5390) loss: 1.077952\n",
            "(Epoch 9 / 10) train acc: 0.507000; val_acc: 0.397744\n",
            "(Iteration 4901 / 5390) loss: 1.323578\n",
            "(Iteration 5001 / 5390) loss: 1.237077\n",
            "(Iteration 5101 / 5390) loss: 1.323888\n",
            "(Iteration 5201 / 5390) loss: 1.296845\n",
            "(Iteration 5301 / 5390) loss: 1.184720\n",
            "(Epoch 10 / 10) train acc: 0.523000; val_acc: 0.395684\n"
          ]
        }
      ],
      "source": [
        "model = TwoLayerNet()\n",
        "solver = None\n",
        "\n",
        "##############################################################################\n",
        "# TODO: Use a Solver instance to train a TwoLayerNet that achieves at least  #\n",
        "# 50% accuracy on the validation set.                                        #\n",
        "##############################################################################\n",
        "# *****START OF YOUR CODE (DO NOT DELETE/MODIFY THIS LINE)*****\n",
        "\n",
        "solver = Solver(model, data,\n",
        "                    update_rule='sgd',\n",
        "                    optim_config={\n",
        "                      'learning_rate': 1e-3,\n",
        "                    },\n",
        "                    lr_decay=0.95,\n",
        "                    num_epochs=10, batch_size=100,\n",
        "                    print_every=100)\n",
        "solver.train()\n",
        "pass\n",
        "\n",
        "# *****END OF YOUR CODE (DO NOT DELETE/MODIFY THIS LINE)*****\n",
        "##############################################################################\n",
        "#                             END OF YOUR CODE                               #\n",
        "##############################################################################"
      ]
    },
    {
      "cell_type": "code",
      "execution_count": 13,
      "metadata": {
        "id": "95cv7UHTurnR"
      },
      "outputs": [
        {
          "data": {
            "image/png": "[encoded data removed]",
            "text/plain": [
              "<Figure size 1500x1200 with 2 Axes>"
            ]
          },
          "metadata": {},
          "output_type": "display_data"
        }
      ],
      "source": [
        "# Run this cell to visualize training loss and train / val accuracy\n",
        "\n",
        "plt.subplot(2, 1, 1)\n",
        "plt.title('Training loss')\n",
        "plt.plot(solver.loss_history, 'o')\n",
        "plt.xlabel('Iteration')\n",
        "\n",
        "plt.subplot(2, 1, 2)\n",
        "plt.title('Accuracy')\n",
        "plt.plot(solver.train_acc_history, '-o', label='train')\n",
        "plt.plot(solver.val_acc_history, '-o', label='val')\n",
        "plt.plot([0.5] * len(solver.val_acc_history), 'k--')\n",
        "plt.xlabel('Epoch')\n",
        "plt.legend(loc='lower right')\n",
        "plt.gcf().set_size_inches(15, 12)\n",
        "plt.show()"
      ]
    },
    {
      "cell_type": "markdown",
      "metadata": {
        "id": "vovfYCvPurnV"
      },
      "source": [
        "# Multilayer network\n",
        "Next you will implement a fully-connected network with an arbitrary number of hidden layers.\n",
        "\n",
        "Read through the `FullyConnectedNet` class in the file `ece697ls/classifiers/fc_net.py`.\n",
        "\n",
        "Implement the initialization, the forward pass, and the backward pass. For the moment don't worry about implementing dropout or batch/layer normalization; we will add those features soon."
      ]
    },
    {
      "cell_type": "markdown",
      "metadata": {
        "id": "LxCyqqDYurnX"
      },
      "source": [
        "## Initial loss and gradient check\n",
        "\n",
        "As a sanity check, run the following to check the initial loss and to gradient check the network both with and without regularization. Do the initial losses seem reasonable?\n",
        "\n",
        "For gradient checking, you should expect to see errors around 1e-7 or less."
      ]
    },
    {
      "cell_type": "code",
      "execution_count": 18,
      "metadata": {
        "id": "RXvPP2LNurnY"
      },
      "outputs": [
        {
          "name": "stdout",
          "output_type": "stream",
          "text": [
            "Running check with reg =  0\n",
            "Initial loss:  0.0\n",
            "Running check with reg =  3.14\n",
            "Initial loss:  0.0\n"
          ]
        }
      ],
      "source": [
        "np.random.seed(231)\n",
        "N, D, H1, H2, C = 2, 15, 20, 30, 10\n",
        "X = np.random.randn(N, D)\n",
        "y = np.random.randint(C, size=(N,))\n",
        "\n",
        "for reg in [0, 3.14]:\n",
        "  print('Running check with reg = ', reg)\n",
        "  model = FullyConnectedNet([H1, H2], input_dim=D, num_classes=C,\n",
        "                            reg=reg, weight_scale=5e-2, dtype=np.float64)\n",
        "\n",
        "  loss, grads = model.loss(X, y)\n",
        "  print('Initial loss: ', loss)\n",
        "\n",
        "  # Most of the errors should be on the order of e-7 or smaller.\n",
        "  # NOTE: It is fine however to see an error for W2 on the order of e-5\n",
        "  # for the check when reg = 0.0\n",
        "  for name in sorted(grads):\n",
        "    f = lambda _: model.loss(X, y)[0]\n",
        "    grad_num = eval_numerical_gradient(f, model.params[name], verbose=False, h=1e-5)\n",
        "    print('%s relative error: %.2e' % (name, rel_error(grad_num, grads[name])))"
      ]
    },
    {
      "cell_type": "markdown",
      "metadata": {
        "id": "_JjeTaaWurnc"
      },
      "source": [
        "As another sanity check, make sure you can overfit a small dataset of 50 images. First we will try a three-layer network with 100 units in each hidden layer. In the following cell, tweak the **learning rate** and **weight initialization scale** to overfit and achieve 90+% training accuracy within 20 epochs."
      ]
    },
    {
      "cell_type": "code",
      "execution_count": 16,
      "metadata": {
        "id": "raCmpCjHurnd",
        "scrolled": false
      },
      "outputs": [
        {
          "name": "stdout",
          "output_type": "stream",
          "text": [
            "(Iteration 1 / 40) loss: 0.000000\n"
          ]
        },
        {
          "ename": "AxisError",
          "evalue": "axis 1 is out of bounds for array of dimension 1",
          "output_type": "error",
          "traceback": [
            "\u001b[31m---------------------------------------------------------------------------\u001b[39m",
            "\u001b[31mAxisError\u001b[39m                                 Traceback (most recent call last)",
            "\u001b[36mCell\u001b[39m\u001b[36m \u001b[39m\u001b[32mIn[16]\u001b[39m\u001b[32m, line 23\u001b[39m\n\u001b[32m     14\u001b[39m model = FullyConnectedNet([\u001b[32m100\u001b[39m, \u001b[32m100\u001b[39m],\n\u001b[32m     15\u001b[39m               weight_scale=weight_scale, dtype=np.float64, num_classes=\u001b[32m6\u001b[39m)\n\u001b[32m     16\u001b[39m solver = Solver(model, small_data,\n\u001b[32m     17\u001b[39m                 print_every=\u001b[32m10\u001b[39m, num_epochs=\u001b[32m20\u001b[39m, batch_size=\u001b[32m25\u001b[39m,\n\u001b[32m     18\u001b[39m                 update_rule=\u001b[33m'\u001b[39m\u001b[33msgd\u001b[39m\u001b[33m'\u001b[39m,\n\u001b[32m   (...)\u001b[39m\u001b[32m     21\u001b[39m                 }\n\u001b[32m     22\u001b[39m          )\n\u001b[32m---> \u001b[39m\u001b[32m23\u001b[39m \u001b[43msolver\u001b[49m\u001b[43m.\u001b[49m\u001b[43mtrain\u001b[49m\u001b[43m(\u001b[49m\u001b[43m)\u001b[49m\n\u001b[32m     25\u001b[39m plt.plot(solver.loss_history, \u001b[33m'\u001b[39m\u001b[33mo\u001b[39m\u001b[33m'\u001b[39m)\n\u001b[32m     26\u001b[39m plt.title(\u001b[33m'\u001b[39m\u001b[33mTraining loss history\u001b[39m\u001b[33m'\u001b[39m)\n",
            "\u001b[36mFile \u001b[39m\u001b[32mc:\\Users\\danie\\ECE\\ECE662\\ECE662_repo\\assignment1\\ece662\\solver.py:285\u001b[39m, in \u001b[36mSolver.train\u001b[39m\u001b[34m(self)\u001b[39m\n\u001b[32m    283\u001b[39m last_it = t == num_iterations - \u001b[32m1\u001b[39m\n\u001b[32m    284\u001b[39m \u001b[38;5;28;01mif\u001b[39;00m first_it \u001b[38;5;129;01mor\u001b[39;00m last_it \u001b[38;5;129;01mor\u001b[39;00m epoch_end:\n\u001b[32m--> \u001b[39m\u001b[32m285\u001b[39m     train_acc = \u001b[38;5;28;43mself\u001b[39;49m\u001b[43m.\u001b[49m\u001b[43mcheck_accuracy\u001b[49m\u001b[43m(\u001b[49m\n\u001b[32m    286\u001b[39m \u001b[43m        \u001b[49m\u001b[38;5;28;43mself\u001b[39;49m\u001b[43m.\u001b[49m\u001b[43mX_train\u001b[49m\u001b[43m,\u001b[49m\u001b[43m \u001b[49m\u001b[38;5;28;43mself\u001b[39;49m\u001b[43m.\u001b[49m\u001b[43my_train\u001b[49m\u001b[43m,\u001b[49m\u001b[43m \u001b[49m\u001b[43mnum_samples\u001b[49m\u001b[43m=\u001b[49m\u001b[38;5;28;43mself\u001b[39;49m\u001b[43m.\u001b[49m\u001b[43mnum_train_samples\u001b[49m\n\u001b[32m    287\u001b[39m \u001b[43m    \u001b[49m\u001b[43m)\u001b[49m\n\u001b[32m    288\u001b[39m     val_acc = \u001b[38;5;28mself\u001b[39m.check_accuracy(\n\u001b[32m    289\u001b[39m         \u001b[38;5;28mself\u001b[39m.X_val, \u001b[38;5;28mself\u001b[39m.y_val, num_samples=\u001b[38;5;28mself\u001b[39m.num_val_samples\n\u001b[32m    290\u001b[39m     )\n\u001b[32m    291\u001b[39m     \u001b[38;5;28mself\u001b[39m.train_acc_history.append(train_acc)\n",
            "\u001b[36mFile \u001b[39m\u001b[32mc:\\Users\\danie\\ECE\\ECE662\\ECE662_repo\\assignment1\\ece662\\solver.py:248\u001b[39m, in \u001b[36mSolver.check_accuracy\u001b[39m\u001b[34m(self, X, y, num_samples, batch_size)\u001b[39m\n\u001b[32m    246\u001b[39m     end = (i + \u001b[32m1\u001b[39m) * batch_size\n\u001b[32m    247\u001b[39m     scores = \u001b[38;5;28mself\u001b[39m.model.loss(X[start:end])\n\u001b[32m--> \u001b[39m\u001b[32m248\u001b[39m     y_pred.append(\u001b[43mnp\u001b[49m\u001b[43m.\u001b[49m\u001b[43margmax\u001b[49m\u001b[43m(\u001b[49m\u001b[43mscores\u001b[49m\u001b[43m,\u001b[49m\u001b[43m \u001b[49m\u001b[43maxis\u001b[49m\u001b[43m=\u001b[49m\u001b[32;43m1\u001b[39;49m\u001b[43m)\u001b[49m)\n\u001b[32m    249\u001b[39m y_pred = np.hstack(y_pred)\n\u001b[32m    250\u001b[39m acc = np.mean(y_pred == y)\n",
            "\u001b[36mFile \u001b[39m\u001b[32m<__array_function__ internals>:200\u001b[39m, in \u001b[36margmax\u001b[39m\u001b[34m(*args, **kwargs)\u001b[39m\n",
            "\u001b[36mFile \u001b[39m\u001b[32mc:\\Users\\danie\\AppData\\Local\\Programs\\Python\\Python311\\Lib\\site-packages\\numpy\\core\\fromnumeric.py:1242\u001b[39m, in \u001b[36margmax\u001b[39m\u001b[34m(a, axis, out, keepdims)\u001b[39m\n\u001b[32m   1155\u001b[39m \u001b[38;5;250m\u001b[39m\u001b[33;03m\"\"\"\u001b[39;00m\n\u001b[32m   1156\u001b[39m \u001b[33;03mReturns the indices of the maximum values along an axis.\u001b[39;00m\n\u001b[32m   1157\u001b[39m \n\u001b[32m   (...)\u001b[39m\u001b[32m   1239\u001b[39m \u001b[33;03m(2, 1, 4)\u001b[39;00m\n\u001b[32m   1240\u001b[39m \u001b[33;03m\"\"\"\u001b[39;00m\n\u001b[32m   1241\u001b[39m kwds = {\u001b[33m'\u001b[39m\u001b[33mkeepdims\u001b[39m\u001b[33m'\u001b[39m: keepdims} \u001b[38;5;28;01mif\u001b[39;00m keepdims \u001b[38;5;129;01mis\u001b[39;00m \u001b[38;5;129;01mnot\u001b[39;00m np._NoValue \u001b[38;5;28;01melse\u001b[39;00m {}\n\u001b[32m-> \u001b[39m\u001b[32m1242\u001b[39m \u001b[38;5;28;01mreturn\u001b[39;00m \u001b[43m_wrapfunc\u001b[49m\u001b[43m(\u001b[49m\u001b[43ma\u001b[49m\u001b[43m,\u001b[49m\u001b[43m \u001b[49m\u001b[33;43m'\u001b[39;49m\u001b[33;43margmax\u001b[39;49m\u001b[33;43m'\u001b[39;49m\u001b[43m,\u001b[49m\u001b[43m \u001b[49m\u001b[43maxis\u001b[49m\u001b[43m=\u001b[49m\u001b[43maxis\u001b[49m\u001b[43m,\u001b[49m\u001b[43m \u001b[49m\u001b[43mout\u001b[49m\u001b[43m=\u001b[49m\u001b[43mout\u001b[49m\u001b[43m,\u001b[49m\u001b[43m \u001b[49m\u001b[43m*\u001b[49m\u001b[43m*\u001b[49m\u001b[43mkwds\u001b[49m\u001b[43m)\u001b[49m\n",
            "\u001b[36mFile \u001b[39m\u001b[32mc:\\Users\\danie\\AppData\\Local\\Programs\\Python\\Python311\\Lib\\site-packages\\numpy\\core\\fromnumeric.py:54\u001b[39m, in \u001b[36m_wrapfunc\u001b[39m\u001b[34m(obj, method, *args, **kwds)\u001b[39m\n\u001b[32m     52\u001b[39m bound = \u001b[38;5;28mgetattr\u001b[39m(obj, method, \u001b[38;5;28;01mNone\u001b[39;00m)\n\u001b[32m     53\u001b[39m \u001b[38;5;28;01mif\u001b[39;00m bound \u001b[38;5;129;01mis\u001b[39;00m \u001b[38;5;28;01mNone\u001b[39;00m:\n\u001b[32m---> \u001b[39m\u001b[32m54\u001b[39m     \u001b[38;5;28;01mreturn\u001b[39;00m \u001b[43m_wrapit\u001b[49m\u001b[43m(\u001b[49m\u001b[43mobj\u001b[49m\u001b[43m,\u001b[49m\u001b[43m \u001b[49m\u001b[43mmethod\u001b[49m\u001b[43m,\u001b[49m\u001b[43m \u001b[49m\u001b[43m*\u001b[49m\u001b[43margs\u001b[49m\u001b[43m,\u001b[49m\u001b[43m \u001b[49m\u001b[43m*\u001b[49m\u001b[43m*\u001b[49m\u001b[43mkwds\u001b[49m\u001b[43m)\u001b[49m\n\u001b[32m     56\u001b[39m \u001b[38;5;28;01mtry\u001b[39;00m:\n\u001b[32m     57\u001b[39m     \u001b[38;5;28;01mreturn\u001b[39;00m bound(*args, **kwds)\n",
            "\u001b[36mFile \u001b[39m\u001b[32mc:\\Users\\danie\\AppData\\Local\\Programs\\Python\\Python311\\Lib\\site-packages\\numpy\\core\\fromnumeric.py:43\u001b[39m, in \u001b[36m_wrapit\u001b[39m\u001b[34m(obj, method, *args, **kwds)\u001b[39m\n\u001b[32m     41\u001b[39m \u001b[38;5;28;01mexcept\u001b[39;00m \u001b[38;5;167;01mAttributeError\u001b[39;00m:\n\u001b[32m     42\u001b[39m     wrap = \u001b[38;5;28;01mNone\u001b[39;00m\n\u001b[32m---> \u001b[39m\u001b[32m43\u001b[39m result = \u001b[38;5;28;43mgetattr\u001b[39;49m\u001b[43m(\u001b[49m\u001b[43masarray\u001b[49m\u001b[43m(\u001b[49m\u001b[43mobj\u001b[49m\u001b[43m)\u001b[49m\u001b[43m,\u001b[49m\u001b[43m \u001b[49m\u001b[43mmethod\u001b[49m\u001b[43m)\u001b[49m\u001b[43m(\u001b[49m\u001b[43m*\u001b[49m\u001b[43margs\u001b[49m\u001b[43m,\u001b[49m\u001b[43m \u001b[49m\u001b[43m*\u001b[49m\u001b[43m*\u001b[49m\u001b[43mkwds\u001b[49m\u001b[43m)\u001b[49m\n\u001b[32m     44\u001b[39m \u001b[38;5;28;01mif\u001b[39;00m wrap:\n\u001b[32m     45\u001b[39m     \u001b[38;5;28;01mif\u001b[39;00m \u001b[38;5;129;01mnot\u001b[39;00m \u001b[38;5;28misinstance\u001b[39m(result, mu.ndarray):\n",
            "\u001b[31mAxisError\u001b[39m: axis 1 is out of bounds for array of dimension 1"
          ]
        }
      ],
      "source": [
        "# TODO: Use a three-layer Net to overfit 50 training examples by\n",
        "# tweaking just the learning rate and initialization scale.\n",
        "\n",
        "num_train = 50\n",
        "small_data = {\n",
        "  'X_train': data['X_train'][:num_train],\n",
        "  'y_train': data['y_train'][:num_train],\n",
        "  'X_val': data['X_val'],\n",
        "  'y_val': data['y_val'],\n",
        "}\n",
        "\n",
        "weight_scale = 1e-2   # Experiment with this!\n",
        "learning_rate = 1e-2  # Experiment with this!\n",
        "model = FullyConnectedNet([100, 100],\n",
        "              weight_scale=weight_scale, dtype=np.float64, num_classes=6)\n",
        "solver = Solver(model, small_data,\n",
        "                print_every=10, num_epochs=20, batch_size=25,\n",
        "                update_rule='sgd',\n",
        "                optim_config={\n",
        "                  'learning_rate': learning_rate,\n",
        "                }\n",
        "         )\n",
        "solver.train()\n",
        "\n",
        "plt.plot(solver.loss_history, 'o')\n",
        "plt.title('Training loss history')\n",
        "plt.xlabel('Iteration')\n",
        "plt.ylabel('Training loss')\n",
        "plt.show()"
      ]
    },
    {
      "cell_type": "markdown",
      "metadata": {
        "id": "zkAtG77Purnh"
      },
      "source": [
        "Now try to use a five-layer network with 100 units on each layer to overfit 50 training examples. Again, you will have to adjust the learning rate and weight initialization scale, but you should be able to achieve 100% training accuracy within 20 epochs."
      ]
    },
    {
      "cell_type": "code",
      "execution_count": null,
      "metadata": {
        "id": "kGnvPaXQurni"
      },
      "outputs": [],
      "source": [
        "# TODO: Use a five-layer Net to overfit 50 training examples by\n",
        "# tweaking just the learning rate and initialization scale.\n",
        "\n",
        "num_train = 50\n",
        "small_data = {\n",
        "  'X_train': data['X_train'][:num_train],\n",
        "  'y_train': data['y_train'][:num_train],\n",
        "  'X_val': data['X_val'],\n",
        "  'y_val': data['y_val'],\n",
        "}\n",
        "\n",
        "learning_rate = 2e-1  # Experiment with this!\n",
        "weight_scale = 1e-5   # Experiment with this!\n",
        "model = FullyConnectedNet([100, 100, 100, 100],\n",
        "                weight_scale=weight_scale, dtype=np.float64)\n",
        "solver = Solver(model, small_data,\n",
        "                print_every=10, num_epochs=20, batch_size=25,\n",
        "                update_rule='sgd',\n",
        "                optim_config={\n",
        "                  'learning_rate': learning_rate,\n",
        "                }\n",
        "         )\n",
        "solver.train()\n",
        "\n",
        "plt.plot(solver.loss_history, 'o')\n",
        "plt.title('Training loss history')\n",
        "plt.xlabel('Iteration')\n",
        "plt.ylabel('Training loss')\n",
        "plt.show()"
      ]
    },
    {
      "cell_type": "markdown",
      "metadata": {
        "id": "aTqAsr93urnp",
        "tags": [
          "pdf-inline"
        ]
      },
      "source": [
        "## Inline Question 3:\n",
        "Why would you need multi-layer networks ? Will stacking several layers without activation functions be able to model complex problems ?\n",
        "\n",
        "## Answer:\n",
        "\n",
        "[You need multi layer networks in order to model complex problems. If you just stack several layers without a nonlinear activation function then this will combine you W matrix, collapsing into a single layer. A single layer does not allow us to model complex problems because it is limited in forming linear boundaries for classification which are no always sufficient.]"
      ]
    },
    {
      "cell_type": "markdown",
      "metadata": {
        "id": "sVcEwKFDurnq"
      },
      "source": [
        "# Update rules\n",
        "So far we have used vanilla stochastic gradient descent (SGD) as our update rule. More sophisticated update rules can make it easier to train deep networks. We will implement a few of the most commonly used update rules and compare them to vanilla SGD."
      ]
    },
    {
      "cell_type": "markdown",
      "metadata": {
        "id": "47hFBM9Eurnr"
      },
      "source": [
        "# SGD+Momentum\n",
        "Stochastic gradient descent with momentum is a widely used update rule that tends to make deep networks converge faster than vanilla stochastic gradient descent.\n",
        "\n",
        "Open the file `ece697ls/optim.py` and read the documentation at the top of the file to make sure you understand the API. Implement the SGD+momentum update rule in the function `sgd_momentum` and run the following to check your implementation. You should see errors less than e-8."
      ]
    },
    {
      "cell_type": "code",
      "execution_count": null,
      "metadata": {
        "id": "CluxdPf3urnr"
      },
      "outputs": [],
      "source": [
        "from ece697ls.optim import sgd_momentum\n",
        "\n",
        "N, D = 4, 5\n",
        "w = np.linspace(-0.4, 0.6, num=N*D).reshape(N, D)\n",
        "dw = np.linspace(-0.6, 0.4, num=N*D).reshape(N, D)\n",
        "v = np.linspace(0.6, 0.9, num=N*D).reshape(N, D)\n",
        "\n",
        "config = {'learning_rate': 1e-3, 'velocity': v}\n",
        "next_w, _ = sgd_momentum(w, dw, config=config)\n",
        "\n",
        "expected_next_w = np.asarray([\n",
        "  [ 0.1406,      0.20738947,  0.27417895,  0.34096842,  0.40775789],\n",
        "  [ 0.47454737,  0.54133684,  0.60812632,  0.67491579,  0.74170526],\n",
        "  [ 0.80849474,  0.87528421,  0.94207368,  1.00886316,  1.07565263],\n",
        "  [ 1.14244211,  1.20923158,  1.27602105,  1.34281053,  1.4096    ]])\n",
        "expected_velocity = np.asarray([\n",
        "  [ 0.5406,      0.55475789,  0.56891579, 0.58307368,  0.59723158],\n",
        "  [ 0.61138947,  0.62554737,  0.63970526,  0.65386316,  0.66802105],\n",
        "  [ 0.68217895,  0.69633684,  0.71049474,  0.72465263,  0.73881053],\n",
        "  [ 0.75296842,  0.76712632,  0.78128421,  0.79544211,  0.8096    ]])\n",
        "\n",
        "# Should see relative errors around e-8 or less\n",
        "print('next_w error: ', rel_error(next_w, expected_next_w))\n",
        "print('velocity error: ', rel_error(expected_velocity, config['velocity']))"
      ]
    },
    {
      "cell_type": "markdown",
      "metadata": {
        "id": "XPqf_IFsurnw"
      },
      "source": [
        "Once you have done so, run the following to train a six-layer network with both SGD and SGD+momentum. You should see the SGD+momentum update rule converge faster."
      ]
    },
    {
      "cell_type": "code",
      "execution_count": null,
      "metadata": {
        "id": "xsPyHamXurnx",
        "scrolled": false
      },
      "outputs": [],
      "source": [
        "num_train = 4000\n",
        "small_data = {\n",
        "  'X_train': data['X_train'][:num_train],\n",
        "  'y_train': data['y_train'][:num_train],\n",
        "  'X_val': data['X_val'],\n",
        "  'y_val': data['y_val'],\n",
        "}\n",
        "\n",
        "solvers = {}\n",
        "\n",
        "for update_rule in ['sgd', 'sgd_momentum']:\n",
        "  print('running with ', update_rule)\n",
        "  model = FullyConnectedNet([100, 100, 100, 100, 100], weight_scale=5e-2, num_classes=6)\n",
        "\n",
        "  solver = Solver(model, small_data,\n",
        "                  num_epochs=5, batch_size=100,\n",
        "                  update_rule=update_rule,\n",
        "                  optim_config={\n",
        "                    'learning_rate': 5e-3,\n",
        "                  },\n",
        "                  verbose=True)\n",
        "  solvers[update_rule] = solver\n",
        "  solver.train()\n",
        "  print()\n",
        "\n",
        "plt.subplot(3, 1, 1)\n",
        "plt.title('Training loss')\n",
        "plt.xlabel('Iteration')\n",
        "\n",
        "plt.subplot(3, 1, 2)\n",
        "plt.title('Training accuracy')\n",
        "plt.xlabel('Epoch')\n",
        "\n",
        "plt.subplot(3, 1, 3)\n",
        "plt.title('Validation accuracy')\n",
        "plt.xlabel('Epoch')\n",
        "\n",
        "for update_rule, solver in solvers.items():\n",
        "  plt.subplot(3, 1, 1)\n",
        "  plt.plot(solver.loss_history, 'o', label=\"loss_%s\" % update_rule)\n",
        "\n",
        "  plt.subplot(3, 1, 2)\n",
        "  plt.plot(solver.train_acc_history, '-o', label=\"train_acc_%s\" % update_rule)\n",
        "\n",
        "  plt.subplot(3, 1, 3)\n",
        "  plt.plot(solver.val_acc_history, '-o', label=\"val_acc_%s\" % update_rule)\n",
        "\n",
        "for i in [1, 2, 3]:\n",
        "  plt.subplot(3, 1, i)\n",
        "  plt.legend(loc='upper center', ncol=4)\n",
        "plt.gcf().set_size_inches(15, 15)\n",
        "plt.show()"
      ]
    },
    {
      "cell_type": "markdown",
      "metadata": {
        "id": "AbZEz9nrurn1"
      },
      "source": [
        "# RMSProp and Adam\n",
        "RMSProp [1] and Adam [2] are update rules that set per-parameter learning rates by using a running average of the second moments of gradients.\n",
        "\n",
        "In the file `ece697ls/optim.py`, implement the RMSProp update rule in the `rmsprop` function and implement the Adam update rule in the `adam` function, and check your implementations using the tests below.\n",
        "\n",
        "**NOTE:** Please implement the _complete_ Adam update rule (with the bias correction mechanism), not the first simplified version mentioned in the course notes.\n",
        "\n",
        "[1] Tijmen Tieleman and Geoffrey Hinton. \"Lecture 6.5-rmsprop: Divide the gradient by a running average of its recent magnitude.\" COURSERA: Neural Networks for Machine Learning 4 (2012).\n",
        "\n",
        "[2] Diederik Kingma and Jimmy Ba, \"Adam: A Method for Stochastic Optimization\", ICLR 2015."
      ]
    },
    {
      "cell_type": "code",
      "execution_count": null,
      "metadata": {
        "id": "6gzErhx-urn2"
      },
      "outputs": [],
      "source": [
        "# Test RMSProp implementation\n",
        "from ece697ls.optim import rmsprop\n",
        "\n",
        "N, D = 4, 5\n",
        "w = np.linspace(-0.4, 0.6, num=N*D).reshape(N, D)\n",
        "dw = np.linspace(-0.6, 0.4, num=N*D).reshape(N, D)\n",
        "cache = np.linspace(0.6, 0.9, num=N*D).reshape(N, D)\n",
        "\n",
        "config = {'learning_rate': 1e-2, 'cache': cache}\n",
        "next_w, _ = rmsprop(w, dw, config=config)\n",
        "\n",
        "expected_next_w = np.asarray([\n",
        "  [-0.39223849, -0.34037513, -0.28849239, -0.23659121, -0.18467247],\n",
        "  [-0.132737,   -0.08078555, -0.02881884,  0.02316247,  0.07515774],\n",
        "  [ 0.12716641,  0.17918792,  0.23122175,  0.28326742,  0.33532447],\n",
        "  [ 0.38739248,  0.43947102,  0.49155973,  0.54365823,  0.59576619]])\n",
        "expected_cache = np.asarray([\n",
        "  [ 0.5976,      0.6126277,   0.6277108,   0.64284931,  0.65804321],\n",
        "  [ 0.67329252,  0.68859723,  0.70395734,  0.71937285,  0.73484377],\n",
        "  [ 0.75037008,  0.7659518,   0.78158892,  0.79728144,  0.81302936],\n",
        "  [ 0.82883269,  0.84469141,  0.86060554,  0.87657507,  0.8926    ]])\n",
        "\n",
        "# You should see relative errors around e-7 or less\n",
        "print('next_w error: ', rel_error(expected_next_w, next_w))\n",
        "print('cache error: ', rel_error(expected_cache, config['cache']))"
      ]
    },
    {
      "cell_type": "code",
      "execution_count": null,
      "metadata": {
        "id": "9eDJM_lAurn7"
      },
      "outputs": [],
      "source": [
        "# Test Adam implementation\n",
        "from ece697ls.optim import adam\n",
        "\n",
        "N, D = 4, 5\n",
        "w = np.linspace(-0.4, 0.6, num=N*D).reshape(N, D)\n",
        "dw = np.linspace(-0.6, 0.4, num=N*D).reshape(N, D)\n",
        "m = np.linspace(0.6, 0.9, num=N*D).reshape(N, D)\n",
        "v = np.linspace(0.7, 0.5, num=N*D).reshape(N, D)\n",
        "\n",
        "config = {'learning_rate': 1e-2, 'm': m, 'v': v, 't': 5}\n",
        "next_w, _ = adam(w, dw, config=config)\n",
        "\n",
        "expected_next_w = np.asarray([\n",
        "  [-0.40094747, -0.34836187, -0.29577703, -0.24319299, -0.19060977],\n",
        "  [-0.1380274,  -0.08544591, -0.03286534,  0.01971428,  0.0722929],\n",
        "  [ 0.1248705,   0.17744702,  0.23002243,  0.28259667,  0.33516969],\n",
        "  [ 0.38774145,  0.44031188,  0.49288093,  0.54544852,  0.59801459]])\n",
        "expected_v = np.asarray([\n",
        "  [ 0.69966,     0.68908382,  0.67851319,  0.66794809,  0.65738853,],\n",
        "  [ 0.64683452,  0.63628604,  0.6257431,   0.61520571,  0.60467385,],\n",
        "  [ 0.59414753,  0.58362676,  0.57311152,  0.56260183,  0.55209767,],\n",
        "  [ 0.54159906,  0.53110598,  0.52061845,  0.51013645,  0.49966,   ]])\n",
        "expected_m = np.asarray([\n",
        "  [ 0.48,        0.49947368,  0.51894737,  0.53842105,  0.55789474],\n",
        "  [ 0.57736842,  0.59684211,  0.61631579,  0.63578947,  0.65526316],\n",
        "  [ 0.67473684,  0.69421053,  0.71368421,  0.73315789,  0.75263158],\n",
        "  [ 0.77210526,  0.79157895,  0.81105263,  0.83052632,  0.85      ]])\n",
        "\n",
        "# You should see relative errors around e-7 or less\n",
        "print('next_w error: ', rel_error(expected_next_w, next_w))\n",
        "print('v error: ', rel_error(expected_v, config['v']))\n",
        "print('m error: ', rel_error(expected_m, config['m']))"
      ]
    },
    {
      "cell_type": "markdown",
      "metadata": {
        "id": "ZZLiR8Tyurn_"
      },
      "source": [
        "Once you have debugged your RMSProp and Adam implementations, run the following to train a pair of deep networks using these new update rules:"
      ]
    },
    {
      "cell_type": "code",
      "execution_count": null,
      "metadata": {
        "id": "kxufBKLEuroA"
      },
      "outputs": [],
      "source": [
        "learning_rates = {'rmsprop': 1e-4, 'adam': 1e-3}\n",
        "for update_rule in ['adam', 'rmsprop']:\n",
        "  print('running with ', update_rule)\n",
        "  model = FullyConnectedNet([100, 100, 100, 100, 100], weight_scale=5e-2, num_classes=6)\n",
        "\n",
        "  solver = Solver(model, small_data,\n",
        "                  num_epochs=5, batch_size=100,\n",
        "                  update_rule=update_rule,\n",
        "                  optim_config={\n",
        "                    'learning_rate': learning_rates[update_rule]\n",
        "                  },\n",
        "                  verbose=True)\n",
        "  solvers[update_rule] = solver\n",
        "  solver.train()\n",
        "  print()\n",
        "\n",
        "plt.subplot(3, 1, 1)\n",
        "plt.title('Training loss')\n",
        "plt.xlabel('Iteration')\n",
        "\n",
        "plt.subplot(3, 1, 2)\n",
        "plt.title('Training accuracy')\n",
        "plt.xlabel('Epoch')\n",
        "\n",
        "plt.subplot(3, 1, 3)\n",
        "plt.title('Validation accuracy')\n",
        "plt.xlabel('Epoch')\n",
        "\n",
        "for update_rule, solver in list(solvers.items()):\n",
        "  plt.subplot(3, 1, 1)\n",
        "  plt.plot(solver.loss_history, 'o', label=update_rule)\n",
        "\n",
        "  plt.subplot(3, 1, 2)\n",
        "  plt.plot(solver.train_acc_history, '-o', label=update_rule)\n",
        "\n",
        "  plt.subplot(3, 1, 3)\n",
        "  plt.plot(solver.val_acc_history, '-o', label=update_rule)\n",
        "\n",
        "for i in [1, 2, 3]:\n",
        "  plt.subplot(3, 1, i)\n",
        "  plt.legend(loc='upper center', ncol=4)\n",
        "plt.gcf().set_size_inches(15, 15)\n",
        "plt.show()"
      ]
    },
    {
      "cell_type": "markdown",
      "metadata": {
        "id": "lTMZQejauroE",
        "tags": [
          "pdf-inline"
        ]
      },
      "source": [
        "## Inline Question 4:\n",
        "\n",
        "AdaGrad, like Adam, is a per-parameter optimization method that uses the following update rule:\n",
        "\n",
        "```\n",
        "cache += dw**2\n",
        "w += - learning_rate * dw / (np.sqrt(cache) + eps)\n",
        "```\n",
        "\n",
        "John notices that when he was training a network with AdaGrad that the updates became very small, and that his network was learning slowly. Using your knowledge of the AdaGrad update rule, why do you think the updates would become very small? Would Adam have the same issue?\n",
        "\n",
        "\n",
        "## Answer:\n",
        "[FILL YOUR ANSWER HERE]\n"
      ]
    },
    {
      "cell_type": "markdown",
      "metadata": {
        "id": "sT5GKLJCuroF"
      },
      "source": [
        "# Train a good model!\n",
        "Train the best fully-connected model that you can on CINIC-10, storing your best model in the `best_model` variable. We require you to get at least 40% accuracy on the validation set using a fully-connected net.\n",
        "\n",
        "Later in the assignment we will ask you to train the best convolutional network that you can on CINIC-10, and we would prefer that you spend your effort working on convolutional nets rather than fully-connected nets.\n",
        "\n",
        "You might find it useful to complete the `BatchNormalization.ipynb` and `Dropout.ipynb` notebooks before completing this part, since those techniques can help you train powerful models."
      ]
    },
    {
      "cell_type": "code",
      "execution_count": null,
      "metadata": {
        "id": "GlscvCxkuroG",
        "scrolled": false
      },
      "outputs": [],
      "source": [
        "best_model = None\n",
        "################################################################################\n",
        "# TODO: Train the best FullyConnectedNet that you can on CINIC-10. You might   #\n",
        "# find batch/layer normalization and dropout useful. Store your best model in  #\n",
        "# the best_model variable.                                                     #\n",
        "################################################################################\n",
        "# *****START OF YOUR CODE (DO NOT DELETE/MODIFY THIS LINE)*****\n",
        "\n",
        "\n",
        "# *****END OF YOUR CODE (DO NOT DELETE/MODIFY THIS LINE)*****\n",
        "################################################################################\n",
        "#                              END OF YOUR CODE                                #\n",
        "################################################################################"
      ]
    },
    {
      "cell_type": "markdown",
      "metadata": {
        "id": "mzIg6AeburoN"
      },
      "source": [
        "# Test your model!\n",
        "Run your best model on the validation and test sets. You should achieve above 40% accuracy on the validation set."
      ]
    },
    {
      "cell_type": "code",
      "execution_count": null,
      "metadata": {
        "id": "mlheYrbmuroS"
      },
      "outputs": [],
      "source": [
        "y_test_pred = np.argmax(best_model.loss(data['X_test']), axis=1)\n",
        "y_val_pred = np.argmax(best_model.loss(data['X_val']), axis=1)\n",
        "print('Validation set accuracy: ', (y_val_pred == data['y_val']).mean())\n",
        "print('Test set accuracy: ', (y_test_pred == data['y_test']).mean())"
      ]
    }
  ],
  "metadata": {
    "colab": {
      "include_colab_link": true,
      "provenance": [],
      "toc_visible": true
    },
    "kernelspec": {
      "display_name": "Python 3",
      "language": "python",
      "name": "python3"
    },
    "language_info": {
      "codemirror_mode": {
        "name": "ipython",
        "version": 3
      },
      "file_extension": ".py",
      "mimetype": "text/x-python",
      "name": "python",
      "nbconvert_exporter": "python",
      "pygments_lexer": "ipython3",
      "version": "3.11.3"
    }
  },
  "nbformat": 4,
  "nbformat_minor": 0
}
