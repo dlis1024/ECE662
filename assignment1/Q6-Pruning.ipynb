{
 "cells": [
  {
   "cell_type": "markdown",
   "metadata": {
    "id": "rDCKl_T8d_gg",
    "tags": [
     "pdf-title"
    ]
   },
   "source": [
    "# Pruning\n",
    "\n",
    "After learning, neural networks have modified and learned a set of parameters to perform our classification task. However, such parameters are costly to maintain and do not hold the same importance.\n",
    "\n",
    "Wouldn't it be great could optimize our resource usage by dropping less important values ? This is where pruning comes into play.\n",
    "\n",
    "Pruning is a technique that cuts off parameters/structures from a model to increase sparcity and decrease overall model size, similar to cutting leafs or branches from bushes and trees. This process can lead to smaller memory consumption with minimal accuracy reduction. Moreover, pruning the network may also provide a speedup since there will be less operations being performed.\n",
    "\n",
    "The pruning process can be performed during the end of an epoch of training or after training is complete. Experimenting to find out which way works the best is part of the fun !"
   ]
  },
  {
   "cell_type": "code",
   "execution_count": 1,
   "metadata": {},
   "outputs": [
    {
     "name": "stdout",
     "output_type": "stream",
     "text": [
      "c:\\Users\\danie\\miniconda3\\envs\\torch_env\\python.exe\n",
      "3.9.23 | packaged by conda-forge | (main, Jun  4 2025, 17:49:16) [MSC v.1929 64 bit (AMD64)]\n"
     ]
    }
   ],
   "source": [
    "import sys\n",
    "print(sys.executable)\n",
    "print(sys.version)"
   ]
  },
  {
   "cell_type": "code",
   "execution_count": 17,
   "metadata": {
    "id": "P242B5PEtU6N"
   },
   "outputs": [],
   "source": [
    "from ece662.pruning_helper import test_model, load_model\n",
    "from ece662.data_utils import get_CINIC10_data\n",
    "import os"
   ]
  },
  {
   "cell_type": "markdown",
   "metadata": {
    "id": "76IT2Z-P7aYm"
   },
   "source": [
    "Below we will load a pre-trained model for you to work on. If you prefer, you can save your own model from the previous Tensorflow/Pytorch task and load it here."
   ]
  },
  {
   "cell_type": "code",
   "execution_count": 26,
   "metadata": {
    "id": "jKM5JRLtuVbJ"
   },
   "outputs": [
    {
     "name": "stderr",
     "output_type": "stream",
     "text": [
      "c:\\Users\\danie\\ECE\\ECE662\\ECE662_repo\\assignment1\\ece662\\pruning_helper.py:71: FutureWarning: You are using `torch.load` with `weights_only=False` (the current default value), which uses the default pickle module implicitly. It is possible to construct malicious pickle data which will execute arbitrary code during unpickling (See https://github.com/pytorch/pytorch/blob/main/SECURITY.md#untrusted-models for more details). In a future release, the default value for `weights_only` will be flipped to `True`. This limits the functions that could be executed during unpickling. Arbitrary objects will no longer be allowed to be loaded via this mode unless they are explicitly allowlisted by the user via `torch.serialization.add_safe_globals`. We recommend you start setting `weights_only=True` for any use case where you don't have full control of the loaded file. Please open an issue on GitHub for any issues related to this experimental feature.\n",
      "  model.load_state_dict(torch.load(path))\n"
     ]
    },
    {
     "name": "stdout",
     "output_type": "stream",
     "text": [
      "Test Acc: 0.5151\n"
     ]
    }
   ],
   "source": [
    "#This code may take a while to execute as it is training a network form scratch\n",
    "\n",
    "data = get_CINIC10_data()\n",
    "mode = 'torch'#torch or tensorflow\n",
    "\n",
    "test_data = [data['X_test'],data['y_test']]\n",
    "\n",
    "#path = os.path.join('/content/drive/My Drive/{}'.format(FOLDERNAME), f\"ece662/models/{mode}.model\")\n",
    "path = os.path.join(r\"C:\\Users\\danie\\ECE\\ECE662\\ECE662_repo\\assignment1\\ece662\\models\", \"torch.model\")\n",
    "\n",
    "model = load_model(path,mode=mode)\n",
    "test_model(model,test_data,mode=mode)"
   ]
  },
  {
   "cell_type": "markdown",
   "metadata": {
    "id": "yZOsPryFd_gi",
    "tags": [
     "pdf-ignore"
    ]
   },
   "source": [
    "## Unstructured Pruning\n",
    "\n",
    "Unstructured Pruning is usually related to the pruning of weights in neural networks. The general idea is to select a set of weights according to a policy and setting them up to zero. \n",
    "\n",
    "Common policies are random weight selection or selecting the smallers weights. \n",
    "Unstructured Pruning can be performed in one or multiple layers within the same network.\n",
    "\n",
    "Altough in theory Unstructured Pruning should decrease the number of operations performed during execution there should be explicit support within the framework or hardware to bypass such operations, otherwise it will just operated over zero."
   ]
  },
  {
   "cell_type": "markdown",
   "metadata": {
    "id": "gjxdSF2xmCei"
   },
   "source": [
    "### Perform Pruning\n",
    "\n",
    "Using the model trained in the previous step using pytorch, perform unstructured pruning in the weights of the model by removing x% of the smallest weights. \n",
    "\n",
    "*   Increment global pruning by 10% until reaching total of 80% pruned weights\n",
    "*   Perform inference at the end of each pruning and observe the impact into the accuracy.\n",
    "\n",
    "\n",
    "Note: The percentages are related to the entire model, not per layer.\n",
    "\n"
   ]
  },
  {
   "cell_type": "code",
   "execution_count": 27,
   "metadata": {
    "id": "KaGWTxBcmkzc"
   },
   "outputs": [
    {
     "name": "stdout",
     "output_type": "stream",
     "text": [
      "Pruned 10% of total weights globally.\n",
      "Test Acc: 0.5114\n",
      "Pruned 20% of total weights globally.\n",
      "Test Acc: 0.5091\n",
      "Pruned 30% of total weights globally.\n",
      "Test Acc: 0.5003\n",
      "Pruned 40% of total weights globally.\n",
      "Test Acc: 0.4978\n",
      "Pruned 50% of total weights globally.\n",
      "Test Acc: 0.4951\n",
      "Pruned 60% of total weights globally.\n",
      "Test Acc: 0.4902\n",
      "Pruned 70% of total weights globally.\n",
      "Test Acc: 0.4905\n",
      "Pruned 80% of total weights globally.\n",
      "Test Acc: 0.4918\n"
     ]
    }
   ],
   "source": [
    "################################################################################\n",
    "# TODO: Perform unstructured Pruning over the trained model using 3 different  \n",
    "# prunning percentages.                                \n",
    "################################################################################\n",
    "# *****START OF YOUR CODE (DO NOT DELETE/MODIFY THIS LINE)*****\n",
    "import torch.nn.utils.prune as prune\n",
    "import torch\n",
    "\n",
    "#Total pruning percentages from 10% up to 80% incremented by 10%\n",
    "pruning_steps = [0.1 * i for i in range(1, 9)] \n",
    "\n",
    "# Get list of all weights to prune (conv and linear layers)\n",
    "parameters_to_prune = []\n",
    "for name, module in model.named_modules():\n",
    "    if isinstance(module, torch.nn.Conv2d) or isinstance(module, torch.nn.Linear):\n",
    "        parameters_to_prune.append((module, 'weight'))\n",
    "\n",
    "# Pruning incrementally\n",
    "previous_amount = 0.0\n",
    "for amount in pruning_steps:\n",
    "    # Calculate incremental pruning for this step\n",
    "    incremental_amount = amount - previous_amount\n",
    "    \n",
    "    prune.global_unstructured(\n",
    "        parameters_to_prune,\n",
    "        pruning_method=prune.L1Unstructured,\n",
    "        amount=incremental_amount,\n",
    "    )\n",
    "    \n",
    "    print(f'Pruned {int(amount*100)}% of total weights globally.')\n",
    "    test_model(model, test_data, mode='torch')\n",
    "    \n",
    "    previous_amount = amount\n",
    "\n",
    "# *****END OF YOUR CODE (DO NOT DELETE/MODIFY THIS LINE)*****\n",
    "################################################################################\n",
    "#                              END OF YOUR CODE                                #\n",
    "################################################################################"
   ]
  },
  {
   "cell_type": "markdown",
   "metadata": {
    "id": "zH6e3pCMm2in"
   },
   "source": [
    "## Inline Question 1:\n",
    "\n",
    "What happened with the accuracy as the % of pruning increased ?\n",
    "Why was that the case?\n",
    "\n",
    "\n",
    "## Answer: \n",
    "\n",
    "[The accuracy decreased as pruning increased. This is because the more we prune, the less data we are using to train our model.]"
   ]
  },
  {
   "cell_type": "markdown",
   "metadata": {
    "id": "JN5CMlgUd_gj",
    "tags": [
     "pdf-ignore"
    ]
   },
   "source": [
    "## Structured Pruning\n",
    "\n",
    "Structured Pruning consists of removing a bigger chunk of the network parameters at the same time. Instead of removing only a few weights, it is commonplace to remove entire neurons. \n",
    "\n",
    "For example, in Convolutional Layers, removing filters can be beneficial to improve performance as it greatly decreases the amount of computation performed. However, some of these changes may affect output dimensions which may be carried over to other parts of the network. Therefore, when performing structured pruning one must always be aware of which parameters are going to be affected."
   ]
  },
  {
   "cell_type": "markdown",
   "metadata": {
    "id": "fAr9SLo25Gyx"
   },
   "source": [
    "Using the previously trained model in the CINIC-10, perform Structured Prunning only in the Convolution layers of the DNN."
   ]
  },
  {
   "cell_type": "code",
   "execution_count": 25,
   "metadata": {
    "id": "JFPiHtBohTus"
   },
   "outputs": [
    {
     "name": "stdout",
     "output_type": "stream",
     "text": [
      "Before pruning:\n",
      "Test Acc: 0.5211\n",
      "Pruning 20% of weights globally...\n",
      "Test Acc: 0.5209\n",
      "Pruning 50% of weights globally...\n",
      "Test Acc: 0.4948\n",
      "Pruning 80% of weights globally...\n",
      "Test Acc: 0.4242\n"
     ]
    }
   ],
   "source": [
    "################################################################################\n",
    "# TODO: Perform unstrucuted Pruning over the trained model using 3 different  \n",
    "# prunning percentages.                                \n",
    "################################################################################\n",
    "# *****START OF YOUR CODE (DO NOT DELETE/MODIFY THIS LINE)*****\n",
    "pruning_percentages = [0.2, 0.5, 0.8]\n",
    "\n",
    "# Get parameters to prune once\n",
    "parameters_to_prune = []\n",
    "for name, module in model.named_modules():\n",
    "    if isinstance(module, torch.nn.Conv2d) or isinstance(module, torch.nn.Linear):\n",
    "        parameters_to_prune.append((module, 'weight'))\n",
    "\n",
    "# Baseline accuracy before pruning\n",
    "model.eval()\n",
    "print(\"Before pruning:\")\n",
    "test_model(model, test_data, mode='torch')\n",
    "\n",
    "for p in pruning_percentages:\n",
    "    # Remove previous pruning masks to reset\n",
    "    for module, name in parameters_to_prune:\n",
    "        try:\n",
    "            prune.remove(module, name)\n",
    "        except ValueError:\n",
    "            # This happens if prune not applied yet, so ignore\n",
    "            pass\n",
    "    \n",
    "    # Apply global pruning again with new amount\n",
    "    prune.global_unstructured(\n",
    "        parameters_to_prune,\n",
    "        pruning_method=prune.L1Unstructured,\n",
    "        amount=p,\n",
    "    )\n",
    "\n",
    "    model.eval()\n",
    "    print(f\"Pruning {int(p*100)}% of weights globally...\")\n",
    "    test_model(model, test_data, mode='torch')\n",
    "\n",
    "# *****END OF YOUR CODE (DO NOT DELETE/MODIFY THIS LINE)*****\n",
    "################################################################################\n",
    "#                              END OF YOUR CODE                                #\n",
    "################################################################################"
   ]
  },
  {
   "cell_type": "markdown",
   "metadata": {
    "id": "h85dg7kVd_gk"
   },
   "source": [
    "## Inline Question 2:\n",
    "\n",
    "What is the difference between performing Structured Pruning vs Dropout ? \n",
    "Why would it be beneficial to perform both techniques when developing a Neural Network?\n",
    "\n",
    "\n",
    "## Answer: \n",
    "\n",
    "[Structured pruning permanently removes parts of the network, like whole neurons or filters, to make the model smaller and faster, and it is interesting to note that there is a much larger dropoff in accuracy at 80% structured pruning when compared to unstructured. On the other hand, dropout temporarily turns off random neurons during training to help prevent overfitting. Both techniques would be beneficial to developing a neural network as we prune to make the model smaller and faster and use dropout randomly to prevent overfitting.]\n"
   ]
  }
 ],
 "metadata": {
  "colab": {
   "collapsed_sections": [],
   "provenance": []
  },
  "gpuClass": "standard",
  "kernelspec": {
   "display_name": "torch_env",
   "language": "python",
   "name": "python3"
  },
  "language_info": {
   "codemirror_mode": {
    "name": "ipython",
    "version": 3
   },
   "file_extension": ".py",
   "mimetype": "text/x-python",
   "name": "python",
   "nbconvert_exporter": "python",
   "pygments_lexer": "ipython3",
   "version": "3.9.23"
  }
 },
 "nbformat": 4,
 "nbformat_minor": 0
}
